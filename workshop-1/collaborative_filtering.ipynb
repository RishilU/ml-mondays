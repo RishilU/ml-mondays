{
 "cells": [
  {
   "cell_type": "code",
   "execution_count": null,
   "id": "561e687a",
   "metadata": {},
   "outputs": [],
   "source": [
    "!pip install -r requirements.txt"
   ]
  },
  {
   "cell_type": "markdown",
   "id": "5de0ded6",
   "metadata": {},
   "source": [
    "# Step 1: Grab values from the MovieLens dataset"
   ]
  },
  {
   "cell_type": "code",
   "execution_count": null,
   "id": "0dbb0d01",
   "metadata": {},
   "outputs": [],
   "source": [
    "# Imports modules from the fastai library\n",
    "from fastai.tabular.all import *\n",
    "from fastai.collab import *"
   ]
  },
  {
   "cell_type": "code",
   "execution_count": null,
   "id": "d5d9e8ce",
   "metadata": {},
   "outputs": [],
   "source": [
    "# Downloads the MovieLens dataset\n",
    "path = untar_data(URLs.ML_SAMPLE)"
   ]
  },
  {
   "cell_type": "markdown",
   "id": "40b05b41",
   "metadata": {},
   "source": [
    "# Step 2: Train the model"
   ]
  },
  {
   "cell_type": "code",
   "execution_count": null,
   "id": "8c8066ca",
   "metadata": {},
   "outputs": [],
   "source": [
    "# Loads ratings data into an object\n",
    "dls = CollabDataLoaders.from_csv(path/'ratings.csv')\n",
    "\n",
    "# Creates the model\n",
    "learn = collab_learner(dls, y_range=(0.5,5.5))\n",
    "\n",
    "# Trains the model\n",
    "learn.fine_tune(10)"
   ]
  },
  {
   "cell_type": "markdown",
   "id": "ec45bf9b",
   "metadata": {},
   "source": [
    "# Step 3: Test the model"
   ]
  },
  {
   "cell_type": "code",
   "execution_count": null,
   "id": "8b8979f2",
   "metadata": {},
   "outputs": [],
   "source": [
    "# Displays model results\n",
    "learn.show_results()"
   ]
  }
 ],
 "metadata": {
  "kernelspec": {
   "display_name": "Python 3 (ipykernel)",
   "language": "python",
   "name": "python3"
  },
  "language_info": {
   "codemirror_mode": {
    "name": "ipython",
    "version": 3
   },
   "file_extension": ".py",
   "mimetype": "text/x-python",
   "name": "python",
   "nbconvert_exporter": "python",
   "pygments_lexer": "ipython3",
   "version": "3.7.4"
  }
 },
 "nbformat": 4,
 "nbformat_minor": 5
}
