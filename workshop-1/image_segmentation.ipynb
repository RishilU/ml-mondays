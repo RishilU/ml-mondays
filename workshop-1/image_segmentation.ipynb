{
 "cells": [
  {
   "cell_type": "code",
   "execution_count": null,
   "id": "c4a89a32",
   "metadata": {},
   "outputs": [],
   "source": [
    "!pip install -r requirements.txt"
   ]
  },
  {
   "cell_type": "markdown",
   "id": "2a635b13",
   "metadata": {},
   "source": [
    "# Step 1: Grab images from the Camvid dataset"
   ]
  },
  {
   "cell_type": "code",
   "execution_count": null,
   "id": "97772682",
   "metadata": {},
   "outputs": [],
   "source": [
    "# Imports vision modules from fastai library\n",
    "from fastai.vision.all import *"
   ]
  },
  {
   "cell_type": "code",
   "execution_count": null,
   "id": "d933d0da",
   "metadata": {},
   "outputs": [],
   "source": [
    "# Downloads the Camvid dataset\n",
    "path = untar_data(URLs.CAMVID_TINY)"
   ]
  },
  {
   "cell_type": "markdown",
   "id": "4396756c",
   "metadata": {},
   "source": [
    "# Step 2: Train our model"
   ]
  },
  {
   "cell_type": "code",
   "execution_count": null,
   "id": "4c1cd382",
   "metadata": {},
   "outputs": [],
   "source": [
    "# Defines a DataBlock for loading our data\n",
    "dls = SegmentationDataLoaders.from_label_func(\n",
    "    path, bs=8, fnames = get_image_files(path/\"images\"),\n",
    "    label_func = lambda o: path/'labels'/f'{o.stem}_P{o.suffix}',\n",
    "    codes = np.loadtxt(path/'codes.txt', dtype=str)\n",
    ")"
   ]
  },
  {
   "cell_type": "code",
   "execution_count": null,
   "id": "3baca329",
   "metadata": {
    "scrolled": true
   },
   "outputs": [],
   "source": [
    "# Creates the resnet model\n",
    "learn = unet_learner(dls, resnet34)\n",
    "\n",
    "# Trains the model\n",
    "learn.fine_tune(8)"
   ]
  },
  {
   "cell_type": "markdown",
   "id": "620c0258",
   "metadata": {},
   "source": [
    "# Step 3: Use the model"
   ]
  },
  {
   "cell_type": "code",
   "execution_count": null,
   "id": "095b79cc",
   "metadata": {},
   "outputs": [],
   "source": [
    "# Displays results\n",
    "learn.show_results(max_n=6, figsize=(7,8))"
   ]
  }
 ],
 "metadata": {
  "kernelspec": {
   "display_name": "Python 3 (ipykernel)",
   "language": "python",
   "name": "python3"
  },
  "language_info": {
   "codemirror_mode": {
    "name": "ipython",
    "version": 3
   },
   "file_extension": ".py",
   "mimetype": "text/x-python",
   "name": "python",
   "nbconvert_exporter": "python",
   "pygments_lexer": "ipython3",
   "version": "3.7.4"
  }
 },
 "nbformat": 4,
 "nbformat_minor": 5
}
