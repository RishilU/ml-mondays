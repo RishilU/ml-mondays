{
 "cells": [
  {
   "cell_type": "code",
   "execution_count": null,
   "id": "39ff674c",
   "metadata": {},
   "outputs": [],
   "source": [
    "!pip install -r requirements.txt"
   ]
  },
  {
   "cell_type": "code",
   "execution_count": null,
   "id": "dbb4b9b2",
   "metadata": {},
   "outputs": [],
   "source": [
    "# Imports modules for socket operations to connect to the internet and download data\n",
    "import socket,warnings\n",
    "import os\n",
    "try:\n",
    "    socket.setdefaulttimeout(1)\n",
    "    socket.socket(socket.AF_INET, socket.SOCK_STREAM).connect(('1.1.1.1', 53))\n",
    "except socket.error as ex: raise Exception(\"STOP: No internet. Click '>|' in top right and set 'Internet' switch to on\")"
   ]
  },
  {
   "cell_type": "markdown",
   "id": "dd089082",
   "metadata": {},
   "source": [
    "# Step 1: Download images of birds and non-birds"
   ]
  },
  {
   "cell_type": "code",
   "execution_count": null,
   "id": "7240f010",
   "metadata": {},
   "outputs": [],
   "source": [
    "# Imports modules for searching and retrieving images\n",
    "from duckduckgo_search import ddg_images\n",
    "from fastcore.all import *\n",
    "\n",
    "# Function to search and retrieve images using DuckDuckGo and return the image URLs\n",
    "def search_images(term, max_images=200): return L(ddg_images(term, max_results=max_images)).itemgot('image')"
   ]
  },
  {
   "cell_type": "code",
   "execution_count": null,
   "id": "37f82822",
   "metadata": {},
   "outputs": [],
   "source": [
    "# Searches 1 bird photo image and retrieves its url \n",
    "urls = search_images('bird photos', max_images=1)\n",
    "urls[0]"
   ]
  },
  {
   "cell_type": "code",
   "execution_count": null,
   "id": "4b173805",
   "metadata": {},
   "outputs": [],
   "source": [
    "# Imports the 'download_url' function\n",
    "from fastdownload import download_url\n",
    "\n",
    "# Download destination test image from the URL\n",
    "dest = 'bird.jpg'\n",
    "download_url(urls[0], dest, show_progress=False)\n",
    "\n",
    "# Imports modules for image processing\n",
    "from fastai.vision.all import *\n",
    "\n",
    "# Opens and formats image\n",
    "im = Image.open(dest)\n",
    "im.to_thumb(256,256)"
   ]
  },
  {
   "cell_type": "code",
   "execution_count": null,
   "id": "e99d4e83",
   "metadata": {},
   "outputs": [],
   "source": [
    "# Searches for forest photos\n",
    "download_url(search_images('forest photos', max_images=1)[0], 'forest.jpg', show_progress=False)\n",
    "\n",
    "# Opens the image\n",
    "Image.open('forest.jpg').to_thumb(256,256)"
   ]
  },
  {
   "cell_type": "code",
   "execution_count": null,
   "id": "132ccd0c",
   "metadata": {},
   "outputs": [],
   "source": [
    "# Defines a list of terms for the images (training data)\n",
    "searches = 'forest','bird'\n",
    "\n",
    "path = Path('bird_or_not')\n",
    "from time import sleep\n",
    "\n",
    "# Loops through each search term and downloads images related to it with certain characteristics\n",
    "for o in searches:\n",
    "    dest = (path/o)\n",
    "    dest.mkdir(exist_ok=True, parents=True)\n",
    "    download_images(dest, urls=search_images(f'{o} photo'))\n",
    "    sleep(10)  # Pause between searches to avoid over-loading server\n",
    "    download_images(dest, urls=search_images(f'{o} sun photo'))\n",
    "    sleep(10)\n",
    "    download_images(dest, urls=search_images(f'{o} shade photo'))\n",
    "    sleep(10)\n",
    "    resize_images(path/o, max_size=400, dest=path/o)"
   ]
  },
  {
   "cell_type": "markdown",
   "id": "61b856b1",
   "metadata": {},
   "source": [
    "# Step 2: Train our model"
   ]
  },
  {
   "cell_type": "code",
   "execution_count": null,
   "id": "5897cb87",
   "metadata": {},
   "outputs": [],
   "source": [
    "# Remove any failed images from our data\n",
    "failed = verify_images(get_image_files(path))\n",
    "failed.map(Path.unlink)\n",
    "len(failed)"
   ]
  },
  {
   "cell_type": "code",
   "execution_count": null,
   "id": "424d5098",
   "metadata": {},
   "outputs": [],
   "source": [
    "# Defines a DataBlock for loading the data\n",
    "dls = DataBlock(\n",
    "    blocks=(ImageBlock, CategoryBlock), \n",
    "    get_items=get_image_files, \n",
    "    splitter=RandomSplitter(valid_pct=0.2, seed=42),\n",
    "    get_y=parent_label,\n",
    "    item_tfms=[Resize(192, method='squish')]\n",
    ").dataloaders(path)\n",
    "\n",
    "# Displays batch of data\n",
    "dls.show_batch(max_n=6)"
   ]
  },
  {
   "cell_type": "code",
   "execution_count": null,
   "id": "786a5467",
   "metadata": {},
   "outputs": [],
   "source": [
    "# Creates the resnet model\n",
    "learn = vision_learner(dls, resnet18, metrics=error_rate)\n",
    "\n",
    "# Trains the model\n",
    "learn.fine_tune(3)"
   ]
  },
  {
   "cell_type": "markdown",
   "id": "65a70891",
   "metadata": {},
   "source": [
    "# Step 3: Use the model"
   ]
  },
  {
   "cell_type": "code",
   "execution_count": null,
   "id": "92c049a8",
   "metadata": {
    "scrolled": true
   },
   "outputs": [],
   "source": [
    "# Outputs prediction for our test image\n",
    "is_bird,_,probs = learn.predict(PILImage.create('bird.jpg'))\n",
    "print(f\"This is a: {is_bird}.\")\n",
    "print(f\"Probability it's a bird: {probs[0]:.4f}\")"
   ]
  }
 ],
 "metadata": {
  "kernelspec": {
   "display_name": "Python 3 (ipykernel)",
   "language": "python",
   "name": "python3"
  },
  "language_info": {
   "codemirror_mode": {
    "name": "ipython",
    "version": 3
   },
   "file_extension": ".py",
   "mimetype": "text/x-python",
   "name": "python",
   "nbconvert_exporter": "python",
   "pygments_lexer": "ipython3",
   "version": "3.7.4"
  }
 },
 "nbformat": 4,
 "nbformat_minor": 5
}
