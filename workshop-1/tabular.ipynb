{
 "cells": [
  {
   "cell_type": "code",
   "execution_count": null,
   "id": "b0f3f4f1",
   "metadata": {},
   "outputs": [],
   "source": [
    "!pip install -r requirements.txt"
   ]
  },
  {
   "cell_type": "markdown",
   "id": "917cfa21",
   "metadata": {},
   "source": [
    "# Step 1: Grab values from the Adults dataset"
   ]
  },
  {
   "cell_type": "code",
   "execution_count": null,
   "id": "dcf2201a",
   "metadata": {},
   "outputs": [],
   "source": [
    "# Imports tabular modules from fastai library\n",
    "from fastai.tabular.all import *"
   ]
  },
  {
   "cell_type": "code",
   "execution_count": null,
   "id": "1f74a25e",
   "metadata": {},
   "outputs": [],
   "source": [
    "# Downloads the Adults dataset\n",
    "path = untar_data(URLs.ADULT_SAMPLE)"
   ]
  },
  {
   "cell_type": "markdown",
   "id": "8500234f",
   "metadata": {},
   "source": [
    "# Step 2: Train the model"
   ]
  },
  {
   "cell_type": "code",
   "execution_count": null,
   "id": "1f6e3400",
   "metadata": {},
   "outputs": [],
   "source": [
    "# Defines a DataBlock for loading our data\n",
    "dls = TabularDataLoaders.from_csv(path/'adult.csv', path=path, y_names=\"salary\",\n",
    "    cat_names = ['workclass', 'education', 'marital-status', 'occupation',\n",
    "                 'relationship', 'race'],\n",
    "    cont_names = ['age', 'fnlwgt', 'education-num'],\n",
    "    procs = [Categorify, FillMissing, Normalize])"
   ]
  },
  {
   "cell_type": "code",
   "execution_count": null,
   "id": "9b8aeec2",
   "metadata": {},
   "outputs": [],
   "source": [
    "# Creates the tabular model\n",
    "learn = tabular_learner(dls, metrics=accuracy)\n",
    "\n",
    "# Trains the model\n",
    "learn.fit_one_cycle(3)"
   ]
  },
  {
   "cell_type": "markdown",
   "id": "728677fb",
   "metadata": {},
   "source": [
    "# Step 3: Test the model"
   ]
  },
  {
   "cell_type": "code",
   "execution_count": null,
   "id": "f44e1adf",
   "metadata": {},
   "outputs": [],
   "source": [
    "# Displays results\n",
    "learn.show_results()"
   ]
  }
 ],
 "metadata": {
  "kernelspec": {
   "display_name": "Python 3 (ipykernel)",
   "language": "python",
   "name": "python3"
  },
  "language_info": {
   "codemirror_mode": {
    "name": "ipython",
    "version": 3
   },
   "file_extension": ".py",
   "mimetype": "text/x-python",
   "name": "python",
   "nbconvert_exporter": "python",
   "pygments_lexer": "ipython3",
   "version": "3.7.4"
  }
 },
 "nbformat": 4,
 "nbformat_minor": 5
}
